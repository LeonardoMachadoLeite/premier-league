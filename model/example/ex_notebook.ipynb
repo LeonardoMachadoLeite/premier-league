{
 "cells": [
  {
   "cell_type": "code",
   "execution_count": 9,
   "id": "8ed620ac",
   "metadata": {},
   "outputs": [],
   "source": [
    "import os\n",
    "import sys\n",
    "from dotenv import load_dotenv, find_dotenv\n",
    "\n",
    "load_dotenv(find_dotenv())\n",
    "CLASSES_DIR = os.getenv(\"CLASSES_DIR\")\n",
    "\n",
    "sys.path.append(CLASSES_DIR)\n",
    "\n",
    "from ex_class import Ex_Class"
   ]
  }
 ],
 "metadata": {
  "kernelspec": {
   "display_name": "Python 3 (ipykernel)",
   "language": "python",
   "name": "python3"
  },
  "language_info": {
   "codemirror_mode": {
    "name": "ipython",
    "version": 3
   },
   "file_extension": ".py",
   "mimetype": "text/x-python",
   "name": "python",
   "nbconvert_exporter": "python",
   "pygments_lexer": "ipython3",
   "version": "3.9.7"
  }
 },
 "nbformat": 4,
 "nbformat_minor": 5
}
